{
 "cells": [
  {
   "cell_type": "code",
   "execution_count": null,
   "metadata": {},
   "outputs": [],
   "source": [
    "#import dependencies\n",
    "import numpy as np\n",
    "import pandas as pd\n",
    "from pathlib import Path"
   ]
  },
  {
   "cell_type": "code",
   "execution_count": null,
   "metadata": {},
   "outputs": [],
   "source": [
    "#create dictionary with classification reports for each model\n",
    "\n",
    "classification_reports = {\n",
    "    \"model_name\": {\"random forest\", \"random forest\", \"logistic regression\"},\n",
    "    \"oversampling\": {\"Y\", \"N\", \"N\"},\n",
    "    \"runtime(min)\": {4.5, 10.0, 10.0},\n",
    "    \"accuracy\": {0.999, 0.995, \"fill in here for logistic model\"},\n",
    "    \"0_precision\": {1.00, 1.00, 1.00},\n",
    "    \"1_precision\": {0.99, 0.97, 0.94},\n",
    "    \"0_recall\": {1.00, 1.00, 1.00},\n",
    "    \"1_recall\": {1.00, 0.74, 0.76},\n",
    "    \"0_f1\": {1.00, 1.00, 1.00},\n",
    "    \"1_f1\": {1.00, 0.84, 0.84},\n",
    "    \"0_support\": {33487, 33588, 33564},\n",
    "    \"1_support\": {3441, 520, 544}\n",
    "}"
   ]
  },
  {
   "cell_type": "code",
   "execution_count": null,
   "metadata": {},
   "outputs": [],
   "source": [
    "#convert dictionary to dataframe\n",
    "classification_reports_df = pd.DataFrame(classification_reports)"
   ]
  },
  {
   "cell_type": "code",
   "execution_count": null,
   "metadata": {},
   "outputs": [],
   "source": [
    "#export dataframe to csv\n",
    "classification_reports_df.to_csv(\"Visualizations/Visualization_CSVs/classification_reports.csv\")"
   ]
  }
 ],
 "metadata": {
  "language_info": {
   "name": "python"
  },
  "orig_nbformat": 4
 },
 "nbformat": 4,
 "nbformat_minor": 2
}
