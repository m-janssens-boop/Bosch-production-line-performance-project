{
 "cells": [
  {
   "cell_type": "code",
   "execution_count": 45,
   "metadata": {},
   "outputs": [],
   "source": [
    "from sklearn.model_selection import train_test_split\n",
    "from sklearn.preprocessing import StandardScaler\n",
    "import pandas as pd\n",
    "import tensorflow as tf\n",
    "import numpy as np\n",
    "from imblearn.over_sampling import RandomOverSampler\n",
    "from sklearn.preprocessing import LabelEncoder\n",
    "tf.random.set_seed(1)\n",
    "\n",
    "\n",
    "\n",
    "import pandas as pd\n",
    "X = pd.read_csv('https://machine-failure-data-20230822-craiguo.s3.us-west-2.amazonaws.com/train.csv')\n",
    "X_test = pd.read_csv('https://machine-failure-data-20230822-craiguo.s3.us-west-2.amazonaws.com/test.csv')\n",
    "X.drop(columns=['id'], inplace=True)\n",
    "X_test.drop(columns=['id'],inplace=True)"
   ]
  },
  {
   "cell_type": "code",
   "execution_count": 46,
   "metadata": {},
   "outputs": [],
   "source": [
    "oversample = RandomOverSampler(random_state=1)"
   ]
  },
  {
   "cell_type": "code",
   "execution_count": 47,
   "metadata": {},
   "outputs": [],
   "source": [
    "y = X['Machine failure']\n",
    "X.drop(columns=['Machine failure'], inplace = True)"
   ]
  },
  {
   "cell_type": "code",
   "execution_count": 48,
   "metadata": {},
   "outputs": [
    {
     "data": {
      "text/plain": [
       "0    134281\n",
       "1      2148\n",
       "Name: Machine failure, dtype: int64"
      ]
     },
     "execution_count": 48,
     "metadata": {},
     "output_type": "execute_result"
    }
   ],
   "source": [
    "y.value_counts()"
   ]
  },
  {
   "cell_type": "code",
   "execution_count": 49,
   "metadata": {},
   "outputs": [],
   "source": [
    "X, y = oversample.fit_resample(X, y)\n"
   ]
  },
  {
   "cell_type": "code",
   "execution_count": 50,
   "metadata": {},
   "outputs": [
    {
     "data": {
      "text/plain": [
       "0    134281\n",
       "1     67140\n",
       "Name: Machine failure, dtype: int64"
      ]
     },
     "execution_count": 50,
     "metadata": {},
     "output_type": "execute_result"
    }
   ],
   "source": [
    "y.value_counts()"
   ]
  },
  {
   "cell_type": "code",
   "execution_count": 51,
   "metadata": {},
   "outputs": [],
   "source": [
    "\n",
    "# X = pd.get_dummies(X)\n",
    "prod_ID = X['Product ID'].tolist()\n",
    "machine_type = X['Type'].tolist()\n",
    "le = LabelEncoder()\n",
    "X['Product ID'] = le.fit_transform(prod_ID)\n",
    "X['Type'] = le.fit_transform(machine_type)\n",
    "# prod_ID\n",
    "# le.classes_\n",
    "# prod_ID = le.fit(X['Product ID'])\n",
    "# type = le.fit(X['Type'])\n",
    "# X['Product ID'] = prod_ID\n",
    "# X['Type'] = type"
   ]
  },
  {
   "cell_type": "code",
   "execution_count": null,
   "metadata": {},
   "outputs": [],
   "source": []
  },
  {
   "cell_type": "code",
   "execution_count": 52,
   "metadata": {},
   "outputs": [
    {
     "data": {
      "text/html": [
       "<div>\n",
       "<style scoped>\n",
       "    .dataframe tbody tr th:only-of-type {\n",
       "        vertical-align: middle;\n",
       "    }\n",
       "\n",
       "    .dataframe tbody tr th {\n",
       "        vertical-align: top;\n",
       "    }\n",
       "\n",
       "    .dataframe thead th {\n",
       "        text-align: right;\n",
       "    }\n",
       "</style>\n",
       "<table border=\"1\" class=\"dataframe\">\n",
       "  <thead>\n",
       "    <tr style=\"text-align: right;\">\n",
       "      <th></th>\n",
       "      <th>Product ID</th>\n",
       "      <th>Type</th>\n",
       "      <th>Air temperature [K]</th>\n",
       "      <th>Process temperature [K]</th>\n",
       "      <th>Rotational speed [rpm]</th>\n",
       "      <th>Torque [Nm]</th>\n",
       "      <th>Tool wear [min]</th>\n",
       "      <th>TWF</th>\n",
       "      <th>HDF</th>\n",
       "      <th>PWF</th>\n",
       "      <th>OSF</th>\n",
       "      <th>RNF</th>\n",
       "    </tr>\n",
       "  </thead>\n",
       "  <tbody>\n",
       "    <tr>\n",
       "      <th>0</th>\n",
       "      <td>2752</td>\n",
       "      <td>1</td>\n",
       "      <td>300.6</td>\n",
       "      <td>309.6</td>\n",
       "      <td>1596</td>\n",
       "      <td>36.1</td>\n",
       "      <td>140</td>\n",
       "      <td>0</td>\n",
       "      <td>0</td>\n",
       "      <td>0</td>\n",
       "      <td>0</td>\n",
       "      <td>0</td>\n",
       "    </tr>\n",
       "    <tr>\n",
       "      <th>1</th>\n",
       "      <td>8620</td>\n",
       "      <td>2</td>\n",
       "      <td>302.6</td>\n",
       "      <td>312.1</td>\n",
       "      <td>1759</td>\n",
       "      <td>29.1</td>\n",
       "      <td>200</td>\n",
       "      <td>0</td>\n",
       "      <td>0</td>\n",
       "      <td>0</td>\n",
       "      <td>0</td>\n",
       "      <td>0</td>\n",
       "    </tr>\n",
       "    <tr>\n",
       "      <th>2</th>\n",
       "      <td>2344</td>\n",
       "      <td>1</td>\n",
       "      <td>299.3</td>\n",
       "      <td>308.5</td>\n",
       "      <td>1805</td>\n",
       "      <td>26.5</td>\n",
       "      <td>25</td>\n",
       "      <td>0</td>\n",
       "      <td>0</td>\n",
       "      <td>0</td>\n",
       "      <td>0</td>\n",
       "      <td>0</td>\n",
       "    </tr>\n",
       "    <tr>\n",
       "      <th>3</th>\n",
       "      <td>4704</td>\n",
       "      <td>1</td>\n",
       "      <td>301.0</td>\n",
       "      <td>310.9</td>\n",
       "      <td>1524</td>\n",
       "      <td>44.3</td>\n",
       "      <td>197</td>\n",
       "      <td>0</td>\n",
       "      <td>0</td>\n",
       "      <td>0</td>\n",
       "      <td>0</td>\n",
       "      <td>0</td>\n",
       "    </tr>\n",
       "    <tr>\n",
       "      <th>4</th>\n",
       "      <td>9727</td>\n",
       "      <td>2</td>\n",
       "      <td>298.0</td>\n",
       "      <td>309.0</td>\n",
       "      <td>1641</td>\n",
       "      <td>35.4</td>\n",
       "      <td>34</td>\n",
       "      <td>0</td>\n",
       "      <td>0</td>\n",
       "      <td>0</td>\n",
       "      <td>0</td>\n",
       "      <td>0</td>\n",
       "    </tr>\n",
       "  </tbody>\n",
       "</table>\n",
       "</div>"
      ],
      "text/plain": [
       "   Product ID  Type  Air temperature [K]  Process temperature [K]  \\\n",
       "0        2752     1                300.6                    309.6   \n",
       "1        8620     2                302.6                    312.1   \n",
       "2        2344     1                299.3                    308.5   \n",
       "3        4704     1                301.0                    310.9   \n",
       "4        9727     2                298.0                    309.0   \n",
       "\n",
       "   Rotational speed [rpm]  Torque [Nm]  Tool wear [min]  TWF  HDF  PWF  OSF  \\\n",
       "0                    1596         36.1              140    0    0    0    0   \n",
       "1                    1759         29.1              200    0    0    0    0   \n",
       "2                    1805         26.5               25    0    0    0    0   \n",
       "3                    1524         44.3              197    0    0    0    0   \n",
       "4                    1641         35.4               34    0    0    0    0   \n",
       "\n",
       "   RNF  \n",
       "0    0  \n",
       "1    0  \n",
       "2    0  \n",
       "3    0  \n",
       "4    0  "
      ]
     },
     "execution_count": 52,
     "metadata": {},
     "output_type": "execute_result"
    }
   ],
   "source": [
    "# X.shape\n",
    "X.head()"
   ]
  },
  {
   "cell_type": "code",
   "execution_count": 53,
   "metadata": {},
   "outputs": [],
   "source": [
    "X_train, X_test, y_train, y_test = train_test_split(X, y, random_state=1)"
   ]
  },
  {
   "cell_type": "code",
   "execution_count": 54,
   "metadata": {},
   "outputs": [
    {
     "data": {
      "text/html": [
       "<div>\n",
       "<style scoped>\n",
       "    .dataframe tbody tr th:only-of-type {\n",
       "        vertical-align: middle;\n",
       "    }\n",
       "\n",
       "    .dataframe tbody tr th {\n",
       "        vertical-align: top;\n",
       "    }\n",
       "\n",
       "    .dataframe thead th {\n",
       "        text-align: right;\n",
       "    }\n",
       "</style>\n",
       "<table border=\"1\" class=\"dataframe\">\n",
       "  <thead>\n",
       "    <tr style=\"text-align: right;\">\n",
       "      <th></th>\n",
       "      <th>Product ID</th>\n",
       "      <th>Type</th>\n",
       "      <th>Air temperature [K]</th>\n",
       "      <th>Process temperature [K]</th>\n",
       "      <th>Rotational speed [rpm]</th>\n",
       "      <th>Torque [Nm]</th>\n",
       "      <th>Tool wear [min]</th>\n",
       "      <th>TWF</th>\n",
       "      <th>HDF</th>\n",
       "      <th>PWF</th>\n",
       "      <th>OSF</th>\n",
       "      <th>RNF</th>\n",
       "    </tr>\n",
       "  </thead>\n",
       "  <tbody>\n",
       "    <tr>\n",
       "      <th>201416</th>\n",
       "      <td>1253</td>\n",
       "      <td>1</td>\n",
       "      <td>297.4</td>\n",
       "      <td>308.4</td>\n",
       "      <td>1589</td>\n",
       "      <td>34.9</td>\n",
       "      <td>213</td>\n",
       "      <td>1</td>\n",
       "      <td>0</td>\n",
       "      <td>0</td>\n",
       "      <td>0</td>\n",
       "      <td>0</td>\n",
       "    </tr>\n",
       "    <tr>\n",
       "      <th>201417</th>\n",
       "      <td>4190</td>\n",
       "      <td>1</td>\n",
       "      <td>303.9</td>\n",
       "      <td>312.8</td>\n",
       "      <td>1345</td>\n",
       "      <td>56.5</td>\n",
       "      <td>21</td>\n",
       "      <td>0</td>\n",
       "      <td>0</td>\n",
       "      <td>0</td>\n",
       "      <td>0</td>\n",
       "      <td>0</td>\n",
       "    </tr>\n",
       "    <tr>\n",
       "      <th>201418</th>\n",
       "      <td>4645</td>\n",
       "      <td>1</td>\n",
       "      <td>300.8</td>\n",
       "      <td>310.7</td>\n",
       "      <td>1339</td>\n",
       "      <td>59.1</td>\n",
       "      <td>199</td>\n",
       "      <td>0</td>\n",
       "      <td>0</td>\n",
       "      <td>0</td>\n",
       "      <td>1</td>\n",
       "      <td>0</td>\n",
       "    </tr>\n",
       "    <tr>\n",
       "      <th>201419</th>\n",
       "      <td>3599</td>\n",
       "      <td>1</td>\n",
       "      <td>301.7</td>\n",
       "      <td>310.1</td>\n",
       "      <td>1286</td>\n",
       "      <td>61.0</td>\n",
       "      <td>104</td>\n",
       "      <td>0</td>\n",
       "      <td>1</td>\n",
       "      <td>0</td>\n",
       "      <td>0</td>\n",
       "      <td>0</td>\n",
       "    </tr>\n",
       "    <tr>\n",
       "      <th>201420</th>\n",
       "      <td>6898</td>\n",
       "      <td>1</td>\n",
       "      <td>298.4</td>\n",
       "      <td>309.3</td>\n",
       "      <td>1337</td>\n",
       "      <td>56.1</td>\n",
       "      <td>206</td>\n",
       "      <td>0</td>\n",
       "      <td>0</td>\n",
       "      <td>0</td>\n",
       "      <td>1</td>\n",
       "      <td>0</td>\n",
       "    </tr>\n",
       "  </tbody>\n",
       "</table>\n",
       "</div>"
      ],
      "text/plain": [
       "        Product ID  Type  Air temperature [K]  Process temperature [K]  \\\n",
       "201416        1253     1                297.4                    308.4   \n",
       "201417        4190     1                303.9                    312.8   \n",
       "201418        4645     1                300.8                    310.7   \n",
       "201419        3599     1                301.7                    310.1   \n",
       "201420        6898     1                298.4                    309.3   \n",
       "\n",
       "        Rotational speed [rpm]  Torque [Nm]  Tool wear [min]  TWF  HDF  PWF  \\\n",
       "201416                    1589         34.9              213    1    0    0   \n",
       "201417                    1345         56.5               21    0    0    0   \n",
       "201418                    1339         59.1              199    0    0    0   \n",
       "201419                    1286         61.0              104    0    1    0   \n",
       "201420                    1337         56.1              206    0    0    0   \n",
       "\n",
       "        OSF  RNF  \n",
       "201416    0    0  \n",
       "201417    0    0  \n",
       "201418    1    0  \n",
       "201419    0    0  \n",
       "201420    1    0  "
      ]
     },
     "execution_count": 54,
     "metadata": {},
     "output_type": "execute_result"
    }
   ],
   "source": [
    "X.tail()"
   ]
  },
  {
   "cell_type": "code",
   "execution_count": 55,
   "metadata": {},
   "outputs": [],
   "source": [
    "# X.nunique()"
   ]
  },
  {
   "cell_type": "code",
   "execution_count": 56,
   "metadata": {},
   "outputs": [],
   "source": [
    "# X_test.nunique()"
   ]
  },
  {
   "cell_type": "code",
   "execution_count": 57,
   "metadata": {},
   "outputs": [],
   "source": [
    "# X_combine = pd.concat([X, X_test])\n",
    "# dummy_df = pd.get_dummies(X_combine)\n",
    "# i = X.shape[0]\n",
    "# dummy_train = dummy_df.iloc[0:i]\n",
    "# dummy_test = dummy_df.iloc[i:]\n",
    "# X_train_dropped = X[['Product ID','Type']]\n",
    "# X_test_dropped = X_test[['Product ID','Type']]\n",
    "# X_train.drop(columns=['Product ID','Type'], inplace=True)\n",
    "# X_test.drop(columns=['Product ID','Type'], inplace=True)\n",
    "# X.dtypes"
   ]
  },
  {
   "cell_type": "code",
   "execution_count": 58,
   "metadata": {},
   "outputs": [],
   "source": [
    "# n = len(X_train.columns) + 2"
   ]
  },
  {
   "cell_type": "code",
   "execution_count": null,
   "metadata": {},
   "outputs": [],
   "source": []
  },
  {
   "cell_type": "code",
   "execution_count": 59,
   "metadata": {},
   "outputs": [],
   "source": [
    "scaler = StandardScaler()\n",
    "\n",
    "# X_Scaler = scaler.fit(dummy_train)\n",
    "\n",
    "# X_train_scaled = X_Scaler.transform(dummy_train)\n",
    "# X_test_scaled = X_Scaler.transform(dummy_test)\n",
    "\n",
    "X_Scaler = scaler.fit(X_train)\n",
    "\n",
    "X_train_scaled = X_Scaler.transform(X_train)\n",
    "X_test_scaled = X_Scaler.transform(X_test)"
   ]
  },
  {
   "cell_type": "code",
   "execution_count": 60,
   "metadata": {},
   "outputs": [
    {
     "data": {
      "text/plain": [
       "numpy.ndarray"
      ]
     },
     "execution_count": 60,
     "metadata": {},
     "output_type": "execute_result"
    }
   ],
   "source": [
    "type(X_train_scaled[0])\n",
    "# X_train.shape"
   ]
  },
  {
   "cell_type": "code",
   "execution_count": 61,
   "metadata": {},
   "outputs": [],
   "source": [
    "# X_train = np.concatenate((X_train_scaled, X_dropped), axis = 1)\n",
    "# for i in range(0,X_train.shape[0]):\n",
    "#     np.concatenate(X_train_scaled[i],X_train_dropped[\"Product ID\"][i])\n",
    "#     np.concatenate(X_train_scaled[i],X_train_dropped[\"Type\"][i])\n",
    "\n",
    "# for i in range(0, X_test.shape[0]):\n",
    "#     np.concatenate(X_test_scaled[i],X_train_dropped['Product ID'][i])\n",
    "#     np.concatenate(X_test_scaled[i],X_train_dropped['Type'][i])"
   ]
  },
  {
   "cell_type": "code",
   "execution_count": 62,
   "metadata": {},
   "outputs": [
    {
     "name": "stdout",
     "output_type": "stream",
     "text": [
      "Model: \"sequential_1\"\n",
      "_________________________________________________________________\n",
      "Layer (type)                 Output Shape              Param #   \n",
      "=================================================================\n",
      "dense_3 (Dense)              (None, 10)                130       \n",
      "_________________________________________________________________\n",
      "dense_4 (Dense)              (None, 3)                 33        \n",
      "_________________________________________________________________\n",
      "dense_5 (Dense)              (None, 1)                 4         \n",
      "=================================================================\n",
      "Total params: 167\n",
      "Trainable params: 167\n",
      "Non-trainable params: 0\n",
      "_________________________________________________________________\n"
     ]
    }
   ],
   "source": [
    "# n = len(dummy_df.columns)\n",
    "\n",
    "n= len(X.columns)\n",
    "nn = tf.keras.models.Sequential()\n",
    "\n",
    "nn.add(tf.keras.layers.Dense(units = 10, activation = 'relu', input_dim = n))\n",
    "\n",
    "nn.add(tf.keras.layers.Dense(units = 3, activation = 'relu'))\n",
    "\n",
    "nn.add(tf.keras.layers.Dense(units = 1, activation = 'sigmoid'))\n",
    "\n",
    "nn.summary()"
   ]
  },
  {
   "cell_type": "code",
   "execution_count": 63,
   "metadata": {},
   "outputs": [],
   "source": [
    "nn.compile(loss='binary_crossentropy', optimizer='adam', metrics=['accuracy'])"
   ]
  },
  {
   "cell_type": "code",
   "execution_count": 64,
   "metadata": {},
   "outputs": [
    {
     "name": "stdout",
     "output_type": "stream",
     "text": [
      "Epoch 1/100\n",
      "4721/4721 [==============================] - 2s 363us/step - loss: 0.2789 - accuracy: 0.9184\n",
      "Epoch 2/100\n",
      "4721/4721 [==============================] - 2s 372us/step - loss: 0.1937 - accuracy: 0.9316\n",
      "Epoch 3/100\n",
      "4721/4721 [==============================] - 2s 367us/step - loss: 0.1896 - accuracy: 0.9325\n",
      "Epoch 4/100\n",
      "4721/4721 [==============================] - 2s 365us/step - loss: 0.1880 - accuracy: 0.9334\n",
      "Epoch 5/100\n",
      "4721/4721 [==============================] - 2s 372us/step - loss: 0.1868 - accuracy: 0.9334\n",
      "Epoch 6/100\n",
      "4721/4721 [==============================] - 2s 358us/step - loss: 0.1857 - accuracy: 0.9335\n",
      "Epoch 7/100\n",
      "4721/4721 [==============================] - 2s 358us/step - loss: 0.1852 - accuracy: 0.9334\n",
      "Epoch 8/100\n",
      "4721/4721 [==============================] - 2s 354us/step - loss: 0.1850 - accuracy: 0.9335\n",
      "Epoch 9/100\n",
      "4721/4721 [==============================] - 2s 354us/step - loss: 0.1847 - accuracy: 0.9337\n",
      "Epoch 10/100\n",
      "4721/4721 [==============================] - 2s 359us/step - loss: 0.1845 - accuracy: 0.9335\n",
      "Epoch 11/100\n",
      "4721/4721 [==============================] - 2s 364us/step - loss: 0.1843 - accuracy: 0.9334\n",
      "Epoch 12/100\n",
      "4721/4721 [==============================] - 2s 350us/step - loss: 0.1841 - accuracy: 0.9335\n",
      "Epoch 13/100\n",
      "4721/4721 [==============================] - 2s 352us/step - loss: 0.1838 - accuracy: 0.9335\n",
      "Epoch 14/100\n",
      "4721/4721 [==============================] - 2s 351us/step - loss: 0.1841 - accuracy: 0.9332\n",
      "Epoch 15/100\n",
      "4721/4721 [==============================] - 2s 352us/step - loss: 0.1835 - accuracy: 0.9335\n",
      "Epoch 16/100\n",
      "4721/4721 [==============================] - 2s 354us/step - loss: 0.1834 - accuracy: 0.9335\n",
      "Epoch 17/100\n",
      "4721/4721 [==============================] - 2s 352us/step - loss: 0.1830 - accuracy: 0.9335\n",
      "Epoch 18/100\n",
      "4721/4721 [==============================] - 2s 347us/step - loss: 0.1829 - accuracy: 0.9336\n",
      "Epoch 19/100\n",
      "4721/4721 [==============================] - 2s 356us/step - loss: 0.1827 - accuracy: 0.9334\n",
      "Epoch 20/100\n",
      "4721/4721 [==============================] - 2s 357us/step - loss: 0.1826 - accuracy: 0.9333\n",
      "Epoch 21/100\n",
      "4721/4721 [==============================] - 2s 359us/step - loss: 0.1823 - accuracy: 0.9336\n",
      "Epoch 22/100\n",
      "4721/4721 [==============================] - 2s 360us/step - loss: 0.1820 - accuracy: 0.9333\n",
      "Epoch 23/100\n",
      "4721/4721 [==============================] - 2s 356us/step - loss: 0.1817 - accuracy: 0.9334\n",
      "Epoch 24/100\n",
      "4721/4721 [==============================] - 2s 360us/step - loss: 0.1813 - accuracy: 0.9331\n",
      "Epoch 25/100\n",
      "4721/4721 [==============================] - 2s 360us/step - loss: 0.1809 - accuracy: 0.9335\n",
      "Epoch 26/100\n",
      "4721/4721 [==============================] - 2s 356us/step - loss: 0.1806 - accuracy: 0.9336\n",
      "Epoch 27/100\n",
      "4721/4721 [==============================] - 2s 356us/step - loss: 0.1804 - accuracy: 0.9338\n",
      "Epoch 28/100\n",
      "4721/4721 [==============================] - 2s 371us/step - loss: 0.1801 - accuracy: 0.9337\n",
      "Epoch 29/100\n",
      "4721/4721 [==============================] - 2s 385us/step - loss: 0.1799 - accuracy: 0.9337\n",
      "Epoch 30/100\n",
      "4721/4721 [==============================] - 2s 390us/step - loss: 0.1797 - accuracy: 0.9340\n",
      "Epoch 31/100\n",
      "4721/4721 [==============================] - 2s 374us/step - loss: 0.1792 - accuracy: 0.9340\n",
      "Epoch 32/100\n",
      "4721/4721 [==============================] - 2s 356us/step - loss: 0.1793 - accuracy: 0.9340\n",
      "Epoch 33/100\n",
      "4721/4721 [==============================] - 2s 356us/step - loss: 0.1792 - accuracy: 0.9339\n",
      "Epoch 34/100\n",
      "4721/4721 [==============================] - 2s 356us/step - loss: 0.1790 - accuracy: 0.9342\n",
      "Epoch 35/100\n",
      "4721/4721 [==============================] - 2s 348us/step - loss: 0.1788 - accuracy: 0.9342\n",
      "Epoch 36/100\n",
      "4721/4721 [==============================] - 2s 353us/step - loss: 0.1787 - accuracy: 0.9340\n",
      "Epoch 37/100\n",
      "4721/4721 [==============================] - 2s 349us/step - loss: 0.1785 - accuracy: 0.9344\n",
      "Epoch 38/100\n",
      "4721/4721 [==============================] - 2s 350us/step - loss: 0.1784 - accuracy: 0.9342\n",
      "Epoch 39/100\n",
      "4721/4721 [==============================] - 2s 364us/step - loss: 0.1783 - accuracy: 0.9346\n",
      "Epoch 40/100\n",
      "4721/4721 [==============================] - 2s 360us/step - loss: 0.1782 - accuracy: 0.9340\n",
      "Epoch 41/100\n",
      "4721/4721 [==============================] - 2s 354us/step - loss: 0.1781 - accuracy: 0.9345\n",
      "Epoch 42/100\n",
      "4721/4721 [==============================] - 2s 356us/step - loss: 0.1781 - accuracy: 0.9343\n",
      "Epoch 43/100\n",
      "4721/4721 [==============================] - 2s 353us/step - loss: 0.1780 - accuracy: 0.9341\n",
      "Epoch 44/100\n",
      "4721/4721 [==============================] - 2s 349us/step - loss: 0.1780 - accuracy: 0.9342\n",
      "Epoch 45/100\n",
      "4721/4721 [==============================] - 2s 357us/step - loss: 0.1778 - accuracy: 0.9343\n",
      "Epoch 46/100\n",
      "4721/4721 [==============================] - 2s 352us/step - loss: 0.1780 - accuracy: 0.9344\n",
      "Epoch 47/100\n",
      "4721/4721 [==============================] - 2s 349us/step - loss: 0.1779 - accuracy: 0.9340\n",
      "Epoch 48/100\n",
      "4721/4721 [==============================] - 2s 361us/step - loss: 0.1776 - accuracy: 0.9345\n",
      "Epoch 49/100\n",
      "4721/4721 [==============================] - 2s 365us/step - loss: 0.1774 - accuracy: 0.9346\n",
      "Epoch 50/100\n",
      "4721/4721 [==============================] - 2s 357us/step - loss: 0.1776 - accuracy: 0.9346\n",
      "Epoch 51/100\n",
      "4721/4721 [==============================] - 2s 363us/step - loss: 0.1776 - accuracy: 0.9344\n",
      "Epoch 52/100\n",
      "4721/4721 [==============================] - 2s 366us/step - loss: 0.1774 - accuracy: 0.9344\n",
      "Epoch 53/100\n",
      "4721/4721 [==============================] - 2s 353us/step - loss: 0.1775 - accuracy: 0.9342\n",
      "Epoch 54/100\n",
      "4721/4721 [==============================] - 2s 354us/step - loss: 0.1774 - accuracy: 0.9343\n",
      "Epoch 55/100\n",
      "4721/4721 [==============================] - 2s 352us/step - loss: 0.1775 - accuracy: 0.9344\n",
      "Epoch 56/100\n",
      "4721/4721 [==============================] - 2s 360us/step - loss: 0.1773 - accuracy: 0.9346\n",
      "Epoch 57/100\n",
      "4721/4721 [==============================] - 2s 363us/step - loss: 0.1772 - accuracy: 0.9346\n",
      "Epoch 58/100\n",
      "4721/4721 [==============================] - 2s 374us/step - loss: 0.1774 - accuracy: 0.9345\n",
      "Epoch 59/100\n",
      "4721/4721 [==============================] - 2s 361us/step - loss: 0.1775 - accuracy: 0.9345\n",
      "Epoch 60/100\n",
      "4721/4721 [==============================] - 2s 355us/step - loss: 0.1773 - accuracy: 0.9343\n",
      "Epoch 61/100\n",
      "4721/4721 [==============================] - 2s 355us/step - loss: 0.1771 - accuracy: 0.9347\n",
      "Epoch 62/100\n",
      "4721/4721 [==============================] - 2s 350us/step - loss: 0.1772 - accuracy: 0.9341\n",
      "Epoch 63/100\n",
      "4721/4721 [==============================] - 2s 351us/step - loss: 0.1771 - accuracy: 0.9346\n",
      "Epoch 64/100\n",
      "4721/4721 [==============================] - 2s 355us/step - loss: 0.1771 - accuracy: 0.9348\n",
      "Epoch 65/100\n",
      "4721/4721 [==============================] - 2s 357us/step - loss: 0.1773 - accuracy: 0.9348\n",
      "Epoch 66/100\n",
      "4721/4721 [==============================] - 2s 353us/step - loss: 0.1776 - accuracy: 0.9345\n",
      "Epoch 67/100\n",
      "4721/4721 [==============================] - 2s 363us/step - loss: 0.1775 - accuracy: 0.9342\n",
      "Epoch 68/100\n",
      "4721/4721 [==============================] - 2s 366us/step - loss: 0.1774 - accuracy: 0.9347\n",
      "Epoch 69/100\n",
      "4721/4721 [==============================] - 2s 351us/step - loss: 0.1774 - accuracy: 0.9346\n",
      "Epoch 70/100\n",
      "4721/4721 [==============================] - 2s 350us/step - loss: 0.1774 - accuracy: 0.9343\n",
      "Epoch 71/100\n",
      "4721/4721 [==============================] - 2s 351us/step - loss: 0.1774 - accuracy: 0.9347\n",
      "Epoch 72/100\n",
      "4721/4721 [==============================] - 2s 351us/step - loss: 0.1773 - accuracy: 0.9347\n",
      "Epoch 73/100\n",
      "4721/4721 [==============================] - 2s 355us/step - loss: 0.1773 - accuracy: 0.9345\n",
      "Epoch 74/100\n",
      "4721/4721 [==============================] - 2s 357us/step - loss: 0.1772 - accuracy: 0.9348\n",
      "Epoch 75/100\n",
      "4721/4721 [==============================] - 2s 359us/step - loss: 0.1774 - accuracy: 0.9346\n",
      "Epoch 76/100\n",
      "4721/4721 [==============================] - 2s 353us/step - loss: 0.1773 - accuracy: 0.9349\n",
      "Epoch 77/100\n",
      "4721/4721 [==============================] - 2s 365us/step - loss: 0.1774 - accuracy: 0.9346\n",
      "Epoch 78/100\n",
      "4721/4721 [==============================] - 2s 360us/step - loss: 0.1772 - accuracy: 0.9347\n",
      "Epoch 79/100\n",
      "4721/4721 [==============================] - 2s 349us/step - loss: 0.1772 - accuracy: 0.9346\n",
      "Epoch 80/100\n",
      "4721/4721 [==============================] - 2s 351us/step - loss: 0.1772 - accuracy: 0.9348\n",
      "Epoch 81/100\n",
      "4721/4721 [==============================] - 2s 349us/step - loss: 0.1773 - accuracy: 0.9347\n",
      "Epoch 82/100\n",
      "4721/4721 [==============================] - 2s 356us/step - loss: 0.1770 - accuracy: 0.9349\n",
      "Epoch 83/100\n",
      "4721/4721 [==============================] - 2s 355us/step - loss: 0.1770 - accuracy: 0.9350\n",
      "Epoch 84/100\n",
      "4721/4721 [==============================] - 2s 355us/step - loss: 0.1772 - accuracy: 0.9348\n",
      "Epoch 85/100\n",
      "4721/4721 [==============================] - 2s 358us/step - loss: 0.1773 - accuracy: 0.9347\n",
      "Epoch 86/100\n",
      "4721/4721 [==============================] - 2s 358us/step - loss: 0.1770 - accuracy: 0.9346\n",
      "Epoch 87/100\n",
      "4721/4721 [==============================] - 2s 364us/step - loss: 0.1774 - accuracy: 0.9344\n",
      "Epoch 88/100\n",
      "4721/4721 [==============================] - 2s 353us/step - loss: 0.1774 - accuracy: 0.9346\n",
      "Epoch 89/100\n",
      "4721/4721 [==============================] - 2s 354us/step - loss: 0.1771 - accuracy: 0.9345\n",
      "Epoch 90/100\n",
      "4721/4721 [==============================] - 2s 353us/step - loss: 0.1771 - accuracy: 0.9348\n",
      "Epoch 91/100\n",
      "4721/4721 [==============================] - 2s 356us/step - loss: 0.1771 - accuracy: 0.9348\n",
      "Epoch 92/100\n",
      "4721/4721 [==============================] - 2s 368us/step - loss: 0.1770 - accuracy: 0.9348\n",
      "Epoch 93/100\n",
      "4721/4721 [==============================] - 2s 362us/step - loss: 0.1771 - accuracy: 0.9348\n",
      "Epoch 94/100\n",
      "4721/4721 [==============================] - 2s 358us/step - loss: 0.1771 - accuracy: 0.9348\n",
      "Epoch 95/100\n",
      "4721/4721 [==============================] - 2s 351us/step - loss: 0.1771 - accuracy: 0.9345\n",
      "Epoch 96/100\n",
      "4721/4721 [==============================] - 2s 359us/step - loss: 0.1769 - accuracy: 0.9345\n",
      "Epoch 97/100\n",
      "4721/4721 [==============================] - 2s 357us/step - loss: 0.1771 - accuracy: 0.9347\n",
      "Epoch 98/100\n",
      "4721/4721 [==============================] - 2s 350us/step - loss: 0.1770 - accuracy: 0.9346\n",
      "Epoch 99/100\n",
      "4721/4721 [==============================] - 2s 358us/step - loss: 0.1772 - accuracy: 0.9346\n",
      "Epoch 100/100\n",
      "4721/4721 [==============================] - 2s 360us/step - loss: 0.1771 - accuracy: 0.9344\n"
     ]
    },
    {
     "data": {
      "text/plain": [
       "<tensorflow.python.keras.callbacks.History at 0x22516f51640>"
      ]
     },
     "execution_count": 64,
     "metadata": {},
     "output_type": "execute_result"
    }
   ],
   "source": [
    "# X_temp = np.asarray(dummy_train).astype(np.float32)\n",
    "nn.fit(X_train_scaled, y_train, epochs = 100)"
   ]
  },
  {
   "cell_type": "code",
   "execution_count": 65,
   "metadata": {},
   "outputs": [
    {
     "name": "stdout",
     "output_type": "stream",
     "text": [
      "1574/1574 - 0s - loss: 0.1757 - accuracy: 0.9340\n",
      "Loss: 0.1756826490163803, Accuracy: 0.9339900016784668\n"
     ]
    }
   ],
   "source": [
    "\n",
    "model_loss, model_accuracy = nn.evaluate(X_test_scaled,y_test,verbose=2)\n",
    "print(f\"Loss: {model_loss}, Accuracy: {model_accuracy}\")"
   ]
  },
  {
   "cell_type": "code",
   "execution_count": 66,
   "metadata": {},
   "outputs": [],
   "source": [
    "# predict = nn.predict_classes(X_test_scaled)\n",
    "# print(len(predict))\n",
    "# print(predict[0][0])"
   ]
  },
  {
   "cell_type": "code",
   "execution_count": 67,
   "metadata": {},
   "outputs": [],
   "source": [
    "# predictions = []\n",
    "# for i in predict:\n",
    "#     predictions.append(predict[i][0][0])\n",
    "# predictions_df = pd.DataFrame({'prediction':predictions})\n"
   ]
  },
  {
   "cell_type": "code",
   "execution_count": 68,
   "metadata": {},
   "outputs": [],
   "source": [
    "# predictions_df.value_counts()"
   ]
  }
 ],
 "metadata": {
  "kernelspec": {
   "display_name": "base",
   "language": "python",
   "name": "python3"
  },
  "language_info": {
   "codemirror_mode": {
    "name": "ipython",
    "version": 3
   },
   "file_extension": ".py",
   "mimetype": "text/x-python",
   "name": "python",
   "nbconvert_exporter": "python",
   "pygments_lexer": "ipython3",
   "version": "3.9.13"
  },
  "orig_nbformat": 4
 },
 "nbformat": 4,
 "nbformat_minor": 2
}
