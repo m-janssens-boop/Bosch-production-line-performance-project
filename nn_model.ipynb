{
 "cells": [
  {
   "cell_type": "code",
   "execution_count": 82,
   "metadata": {},
   "outputs": [],
   "source": [
    "from sklearn.model_selection import train_test_split\n",
    "from sklearn.preprocessing import StandardScaler\n",
    "import pandas as pd\n",
    "import tensorflow as tf\n",
    "import numpy as np\n",
    "from imblearn.over_sampling import RandomOverSampler\n",
    "from sklearn.preprocessing import LabelEncoder\n",
    "from sklearn.metrics import confusion_matrix\n",
    "from sklearn.metrics import classification_report\n",
    "tf.random.set_seed(1)\n",
    "\n",
    "\n",
    "\n",
    "import pandas as pd\n",
    "X = pd.read_csv('https://machine-failure-data-20230822-craiguo.s3.us-west-2.amazonaws.com/train.csv')\n",
    "X_test = pd.read_csv('https://machine-failure-data-20230822-craiguo.s3.us-west-2.amazonaws.com/test.csv')\n",
    "X.drop(columns=['id','Product ID'], inplace=True)\n",
    "X_test.drop(columns=['id','Product ID'],inplace=True)"
   ]
  },
  {
   "cell_type": "code",
   "execution_count": 83,
   "metadata": {},
   "outputs": [],
   "source": [
    "oversample = RandomOverSampler(random_state=1, sampling_strategy=.1)"
   ]
  },
  {
   "cell_type": "code",
   "execution_count": 84,
   "metadata": {},
   "outputs": [],
   "source": [
    "y = X['Machine failure']\n",
    "X.drop(columns=['Machine failure'], inplace = True)"
   ]
  },
  {
   "cell_type": "code",
   "execution_count": 85,
   "metadata": {},
   "outputs": [
    {
     "data": {
      "text/plain": [
       "0    134281\n",
       "1      2148\n",
       "Name: Machine failure, dtype: int64"
      ]
     },
     "execution_count": 85,
     "metadata": {},
     "output_type": "execute_result"
    }
   ],
   "source": [
    "y.value_counts()"
   ]
  },
  {
   "cell_type": "code",
   "execution_count": 86,
   "metadata": {},
   "outputs": [],
   "source": [
    "# X, y = oversample.fit_resample(X, y)\n"
   ]
  },
  {
   "cell_type": "code",
   "execution_count": 87,
   "metadata": {},
   "outputs": [
    {
     "data": {
      "text/plain": [
       "0    134281\n",
       "1      2148\n",
       "Name: Machine failure, dtype: int64"
      ]
     },
     "execution_count": 87,
     "metadata": {},
     "output_type": "execute_result"
    }
   ],
   "source": [
    "y.value_counts()"
   ]
  },
  {
   "cell_type": "code",
   "execution_count": 88,
   "metadata": {},
   "outputs": [],
   "source": [
    "\n",
    "# X = pd.get_dummies(X)\n",
    "# prod_ID = X['Product ID'].tolist()\n",
    "# machine_type = X['Type'].tolist()\n",
    "# le = LabelEncoder()\n",
    "# X['Product ID'] = le.fit_transform(prod_ID)\n",
    "# X['Type'] = le.fit_transform(machine_type)\n",
    "# prod_ID\n",
    "# le.classes_\n",
    "# prod_ID = le.fit(X['Product ID'])\n",
    "# type = le.fit(X['Type'])\n",
    "# X['Product ID'] = prod_ID\n",
    "# X['Type'] = type"
   ]
  },
  {
   "cell_type": "code",
   "execution_count": null,
   "metadata": {},
   "outputs": [],
   "source": []
  },
  {
   "cell_type": "code",
   "execution_count": 89,
   "metadata": {},
   "outputs": [
    {
     "data": {
      "text/html": [
       "<div>\n",
       "<style scoped>\n",
       "    .dataframe tbody tr th:only-of-type {\n",
       "        vertical-align: middle;\n",
       "    }\n",
       "\n",
       "    .dataframe tbody tr th {\n",
       "        vertical-align: top;\n",
       "    }\n",
       "\n",
       "    .dataframe thead th {\n",
       "        text-align: right;\n",
       "    }\n",
       "</style>\n",
       "<table border=\"1\" class=\"dataframe\">\n",
       "  <thead>\n",
       "    <tr style=\"text-align: right;\">\n",
       "      <th></th>\n",
       "      <th>Type</th>\n",
       "      <th>Air temperature [K]</th>\n",
       "      <th>Process temperature [K]</th>\n",
       "      <th>Rotational speed [rpm]</th>\n",
       "      <th>Torque [Nm]</th>\n",
       "      <th>Tool wear [min]</th>\n",
       "      <th>TWF</th>\n",
       "      <th>HDF</th>\n",
       "      <th>PWF</th>\n",
       "      <th>OSF</th>\n",
       "      <th>RNF</th>\n",
       "    </tr>\n",
       "  </thead>\n",
       "  <tbody>\n",
       "    <tr>\n",
       "      <th>0</th>\n",
       "      <td>L</td>\n",
       "      <td>300.6</td>\n",
       "      <td>309.6</td>\n",
       "      <td>1596</td>\n",
       "      <td>36.1</td>\n",
       "      <td>140</td>\n",
       "      <td>0</td>\n",
       "      <td>0</td>\n",
       "      <td>0</td>\n",
       "      <td>0</td>\n",
       "      <td>0</td>\n",
       "    </tr>\n",
       "    <tr>\n",
       "      <th>1</th>\n",
       "      <td>M</td>\n",
       "      <td>302.6</td>\n",
       "      <td>312.1</td>\n",
       "      <td>1759</td>\n",
       "      <td>29.1</td>\n",
       "      <td>200</td>\n",
       "      <td>0</td>\n",
       "      <td>0</td>\n",
       "      <td>0</td>\n",
       "      <td>0</td>\n",
       "      <td>0</td>\n",
       "    </tr>\n",
       "    <tr>\n",
       "      <th>2</th>\n",
       "      <td>L</td>\n",
       "      <td>299.3</td>\n",
       "      <td>308.5</td>\n",
       "      <td>1805</td>\n",
       "      <td>26.5</td>\n",
       "      <td>25</td>\n",
       "      <td>0</td>\n",
       "      <td>0</td>\n",
       "      <td>0</td>\n",
       "      <td>0</td>\n",
       "      <td>0</td>\n",
       "    </tr>\n",
       "    <tr>\n",
       "      <th>3</th>\n",
       "      <td>L</td>\n",
       "      <td>301.0</td>\n",
       "      <td>310.9</td>\n",
       "      <td>1524</td>\n",
       "      <td>44.3</td>\n",
       "      <td>197</td>\n",
       "      <td>0</td>\n",
       "      <td>0</td>\n",
       "      <td>0</td>\n",
       "      <td>0</td>\n",
       "      <td>0</td>\n",
       "    </tr>\n",
       "    <tr>\n",
       "      <th>4</th>\n",
       "      <td>M</td>\n",
       "      <td>298.0</td>\n",
       "      <td>309.0</td>\n",
       "      <td>1641</td>\n",
       "      <td>35.4</td>\n",
       "      <td>34</td>\n",
       "      <td>0</td>\n",
       "      <td>0</td>\n",
       "      <td>0</td>\n",
       "      <td>0</td>\n",
       "      <td>0</td>\n",
       "    </tr>\n",
       "  </tbody>\n",
       "</table>\n",
       "</div>"
      ],
      "text/plain": [
       "  Type  Air temperature [K]  Process temperature [K]  Rotational speed [rpm]  \\\n",
       "0    L                300.6                    309.6                    1596   \n",
       "1    M                302.6                    312.1                    1759   \n",
       "2    L                299.3                    308.5                    1805   \n",
       "3    L                301.0                    310.9                    1524   \n",
       "4    M                298.0                    309.0                    1641   \n",
       "\n",
       "   Torque [Nm]  Tool wear [min]  TWF  HDF  PWF  OSF  RNF  \n",
       "0         36.1              140    0    0    0    0    0  \n",
       "1         29.1              200    0    0    0    0    0  \n",
       "2         26.5               25    0    0    0    0    0  \n",
       "3         44.3              197    0    0    0    0    0  \n",
       "4         35.4               34    0    0    0    0    0  "
      ]
     },
     "execution_count": 89,
     "metadata": {},
     "output_type": "execute_result"
    }
   ],
   "source": [
    "# X.shape\n",
    "X.head()"
   ]
  },
  {
   "cell_type": "code",
   "execution_count": 90,
   "metadata": {},
   "outputs": [],
   "source": [
    "# X_train, X_test, y_train, y_test = train_test_split(X, y, random_state=1)"
   ]
  },
  {
   "cell_type": "code",
   "execution_count": 91,
   "metadata": {},
   "outputs": [
    {
     "data": {
      "text/html": [
       "<div>\n",
       "<style scoped>\n",
       "    .dataframe tbody tr th:only-of-type {\n",
       "        vertical-align: middle;\n",
       "    }\n",
       "\n",
       "    .dataframe tbody tr th {\n",
       "        vertical-align: top;\n",
       "    }\n",
       "\n",
       "    .dataframe thead th {\n",
       "        text-align: right;\n",
       "    }\n",
       "</style>\n",
       "<table border=\"1\" class=\"dataframe\">\n",
       "  <thead>\n",
       "    <tr style=\"text-align: right;\">\n",
       "      <th></th>\n",
       "      <th>Type</th>\n",
       "      <th>Air temperature [K]</th>\n",
       "      <th>Process temperature [K]</th>\n",
       "      <th>Rotational speed [rpm]</th>\n",
       "      <th>Torque [Nm]</th>\n",
       "      <th>Tool wear [min]</th>\n",
       "      <th>TWF</th>\n",
       "      <th>HDF</th>\n",
       "      <th>PWF</th>\n",
       "      <th>OSF</th>\n",
       "      <th>RNF</th>\n",
       "    </tr>\n",
       "  </thead>\n",
       "  <tbody>\n",
       "    <tr>\n",
       "      <th>136424</th>\n",
       "      <td>M</td>\n",
       "      <td>300.1</td>\n",
       "      <td>311.4</td>\n",
       "      <td>1530</td>\n",
       "      <td>37.5</td>\n",
       "      <td>210</td>\n",
       "      <td>0</td>\n",
       "      <td>0</td>\n",
       "      <td>0</td>\n",
       "      <td>0</td>\n",
       "      <td>0</td>\n",
       "    </tr>\n",
       "    <tr>\n",
       "      <th>136425</th>\n",
       "      <td>H</td>\n",
       "      <td>297.5</td>\n",
       "      <td>308.5</td>\n",
       "      <td>1447</td>\n",
       "      <td>49.1</td>\n",
       "      <td>2</td>\n",
       "      <td>0</td>\n",
       "      <td>0</td>\n",
       "      <td>0</td>\n",
       "      <td>0</td>\n",
       "      <td>0</td>\n",
       "    </tr>\n",
       "    <tr>\n",
       "      <th>136426</th>\n",
       "      <td>L</td>\n",
       "      <td>300.5</td>\n",
       "      <td>311.8</td>\n",
       "      <td>1524</td>\n",
       "      <td>38.5</td>\n",
       "      <td>214</td>\n",
       "      <td>0</td>\n",
       "      <td>0</td>\n",
       "      <td>0</td>\n",
       "      <td>0</td>\n",
       "      <td>0</td>\n",
       "    </tr>\n",
       "    <tr>\n",
       "      <th>136427</th>\n",
       "      <td>L</td>\n",
       "      <td>301.7</td>\n",
       "      <td>310.9</td>\n",
       "      <td>1447</td>\n",
       "      <td>46.3</td>\n",
       "      <td>42</td>\n",
       "      <td>0</td>\n",
       "      <td>0</td>\n",
       "      <td>0</td>\n",
       "      <td>0</td>\n",
       "      <td>0</td>\n",
       "    </tr>\n",
       "    <tr>\n",
       "      <th>136428</th>\n",
       "      <td>L</td>\n",
       "      <td>296.9</td>\n",
       "      <td>308.1</td>\n",
       "      <td>1557</td>\n",
       "      <td>39.3</td>\n",
       "      <td>229</td>\n",
       "      <td>0</td>\n",
       "      <td>0</td>\n",
       "      <td>0</td>\n",
       "      <td>0</td>\n",
       "      <td>0</td>\n",
       "    </tr>\n",
       "  </tbody>\n",
       "</table>\n",
       "</div>"
      ],
      "text/plain": [
       "       Type  Air temperature [K]  Process temperature [K]  \\\n",
       "136424    M                300.1                    311.4   \n",
       "136425    H                297.5                    308.5   \n",
       "136426    L                300.5                    311.8   \n",
       "136427    L                301.7                    310.9   \n",
       "136428    L                296.9                    308.1   \n",
       "\n",
       "        Rotational speed [rpm]  Torque [Nm]  Tool wear [min]  TWF  HDF  PWF  \\\n",
       "136424                    1530         37.5              210    0    0    0   \n",
       "136425                    1447         49.1                2    0    0    0   \n",
       "136426                    1524         38.5              214    0    0    0   \n",
       "136427                    1447         46.3               42    0    0    0   \n",
       "136428                    1557         39.3              229    0    0    0   \n",
       "\n",
       "        OSF  RNF  \n",
       "136424    0    0  \n",
       "136425    0    0  \n",
       "136426    0    0  \n",
       "136427    0    0  \n",
       "136428    0    0  "
      ]
     },
     "execution_count": 91,
     "metadata": {},
     "output_type": "execute_result"
    }
   ],
   "source": [
    "X.tail()"
   ]
  },
  {
   "cell_type": "code",
   "execution_count": 92,
   "metadata": {},
   "outputs": [],
   "source": [
    "# X.nunique()"
   ]
  },
  {
   "cell_type": "code",
   "execution_count": 93,
   "metadata": {},
   "outputs": [],
   "source": [
    "# X_test.nunique()"
   ]
  },
  {
   "cell_type": "code",
   "execution_count": 94,
   "metadata": {},
   "outputs": [],
   "source": [
    "X_combine = pd.concat([X, X_test])\n",
    "# dummy_df = pd.get_dummies(X_combine)\n",
    "# prod_ID = X_combine['Product ID'].tolist()\n",
    "machine_type = X_combine['Type'].tolist()\n",
    "le = LabelEncoder()\n",
    "# X_combine['Product ID'] = le.fit_transform(prod_ID)\n",
    "X_combine['Type'] = le.fit_transform(machine_type)\n",
    "i = X.shape[0]\n",
    "X_combine_train = X_combine.iloc[0:i]\n",
    "X_combine_test = X_combine.iloc[i:]\n",
    "X_combine_train, y = oversample.fit_resample(X_combine_train, y)\n",
    "# X_train_dropped = X[['Product ID','Type']]\n",
    "# X_test_dropped = X_test[['Product ID','Type']]\n",
    "# X_train.drop(columns=['Product ID','Type'], inplace=True)\n",
    "# X_test.drop(columns=['Product ID','Type'], inplace=True)\n",
    "# X.dtypes"
   ]
  },
  {
   "cell_type": "code",
   "execution_count": 95,
   "metadata": {},
   "outputs": [
    {
     "data": {
      "text/plain": [
       "(147709, 11)"
      ]
     },
     "execution_count": 95,
     "metadata": {},
     "output_type": "execute_result"
    }
   ],
   "source": [
    "X_combine_train.shape\n"
   ]
  },
  {
   "cell_type": "code",
   "execution_count": null,
   "metadata": {},
   "outputs": [],
   "source": []
  },
  {
   "cell_type": "code",
   "execution_count": 96,
   "metadata": {},
   "outputs": [],
   "source": [
    "scaler = StandardScaler()\n",
    "\n",
    "X_Scaler = scaler.fit(X_combine_train)\n",
    "\n",
    "X_train_scaled = X_Scaler.transform(X_combine_train)\n",
    "X_test_scaled = X_Scaler.transform(X_combine_test)\n",
    "\n",
    "# X_Scaler = scaler.fit(X_train)\n",
    "\n",
    "# X_train_scaled = X_Scaler.transform(X_train)\n",
    "# X_test_scaled = X_Scaler.transform(X_test)"
   ]
  },
  {
   "cell_type": "code",
   "execution_count": 97,
   "metadata": {},
   "outputs": [
    {
     "data": {
      "text/plain": [
       "numpy.ndarray"
      ]
     },
     "execution_count": 97,
     "metadata": {},
     "output_type": "execute_result"
    }
   ],
   "source": [
    "type(X_train_scaled[0])\n",
    "# X_train.shape"
   ]
  },
  {
   "cell_type": "code",
   "execution_count": 98,
   "metadata": {},
   "outputs": [],
   "source": [
    "# X_train = np.concatenate((X_train_scaled, X_dropped), axis = 1)\n",
    "# for i in range(0,X_train.shape[0]):\n",
    "#     np.concatenate(X_train_scaled[i],X_train_dropped[\"Product ID\"][i])\n",
    "#     np.concatenate(X_train_scaled[i],X_train_dropped[\"Type\"][i])\n",
    "\n",
    "# for i in range(0, X_test.shape[0]):\n",
    "#     np.concatenate(X_test_scaled[i],X_train_dropped['Product ID'][i])\n",
    "#     np.concatenate(X_test_scaled[i],X_train_dropped['Type'][i])"
   ]
  },
  {
   "cell_type": "code",
   "execution_count": 99,
   "metadata": {},
   "outputs": [
    {
     "name": "stdout",
     "output_type": "stream",
     "text": [
      "Model: \"sequential_3\"\n",
      "_________________________________________________________________\n",
      "Layer (type)                 Output Shape              Param #   \n",
      "=================================================================\n",
      "dense_9 (Dense)              (None, 10)                120       \n",
      "_________________________________________________________________\n",
      "dense_10 (Dense)             (None, 3)                 33        \n",
      "_________________________________________________________________\n",
      "dense_11 (Dense)             (None, 1)                 4         \n",
      "=================================================================\n",
      "Total params: 157\n",
      "Trainable params: 157\n",
      "Non-trainable params: 0\n",
      "_________________________________________________________________\n"
     ]
    }
   ],
   "source": [
    "# n = len(dummy_df.columns)\n",
    "\n",
    "n= len(X.columns)\n",
    "nn = tf.keras.models.Sequential()\n",
    "\n",
    "nn.add(tf.keras.layers.Dense(units = 10, activation = 'relu', input_dim = n))\n",
    "\n",
    "nn.add(tf.keras.layers.Dense(units = 3, activation = 'relu'))\n",
    "\n",
    "nn.add(tf.keras.layers.Dense(units = 1, activation = 'sigmoid'))\n",
    "\n",
    "nn.summary()"
   ]
  },
  {
   "cell_type": "code",
   "execution_count": 100,
   "metadata": {},
   "outputs": [],
   "source": [
    "nn.compile(loss='binary_crossentropy', optimizer='adam', metrics=['accuracy'])"
   ]
  },
  {
   "cell_type": "code",
   "execution_count": 101,
   "metadata": {},
   "outputs": [
    {
     "name": "stdout",
     "output_type": "stream",
     "text": [
      "Epoch 1/100\n",
      "4616/4616 [==============================] - 2s 358us/step - loss: 0.5877 - accuracy: 0.9137\n",
      "Epoch 2/100\n",
      "4616/4616 [==============================] - 2s 359us/step - loss: 0.1951 - accuracy: 0.9393\n",
      "Epoch 3/100\n",
      "4616/4616 [==============================] - 2s 360us/step - loss: 0.1255 - accuracy: 0.9657\n",
      "Epoch 4/100\n",
      "4616/4616 [==============================] - 2s 359us/step - loss: 0.1114 - accuracy: 0.9715\n",
      "Epoch 5/100\n",
      "4616/4616 [==============================] - 2s 361us/step - loss: 0.1062 - accuracy: 0.9744\n",
      "Epoch 6/100\n",
      "4616/4616 [==============================] - 2s 356us/step - loss: 0.1047 - accuracy: 0.9757\n",
      "Epoch 7/100\n",
      "4616/4616 [==============================] - 2s 353us/step - loss: 0.1062 - accuracy: 0.9758\n",
      "Epoch 8/100\n",
      "4616/4616 [==============================] - 2s 352us/step - loss: 0.1031 - accuracy: 0.9766\n",
      "Epoch 9/100\n",
      "4616/4616 [==============================] - 2s 365us/step - loss: 0.1011 - accuracy: 0.9768\n",
      "Epoch 10/100\n",
      "4616/4616 [==============================] - 2s 358us/step - loss: 0.1003 - accuracy: 0.9771\n",
      "Epoch 11/100\n",
      "4616/4616 [==============================] - 2s 356us/step - loss: 0.0991 - accuracy: 0.9775\n",
      "Epoch 12/100\n",
      "4616/4616 [==============================] - 2s 355us/step - loss: 0.0988 - accuracy: 0.9775\n",
      "Epoch 13/100\n",
      "4616/4616 [==============================] - 2s 355us/step - loss: 0.0973 - accuracy: 0.9779\n",
      "Epoch 14/100\n",
      "4616/4616 [==============================] - 2s 356us/step - loss: 0.0961 - accuracy: 0.9780\n",
      "Epoch 15/100\n",
      "4616/4616 [==============================] - 2s 356us/step - loss: 0.0999 - accuracy: 0.9740\n",
      "Epoch 16/100\n",
      "4616/4616 [==============================] - 2s 352us/step - loss: 0.0932 - accuracy: 0.9781\n",
      "Epoch 17/100\n",
      "4616/4616 [==============================] - 2s 355us/step - loss: 0.1102 - accuracy: 0.9712\n",
      "Epoch 18/100\n",
      "4616/4616 [==============================] - 2s 354us/step - loss: 0.1084 - accuracy: 0.9768\n",
      "Epoch 19/100\n",
      "4616/4616 [==============================] - 2s 367us/step - loss: 0.0929 - accuracy: 0.9785\n",
      "Epoch 20/100\n",
      "4616/4616 [==============================] - 2s 360us/step - loss: 0.0932 - accuracy: 0.9782\n",
      "Epoch 21/100\n",
      "4616/4616 [==============================] - 2s 355us/step - loss: 0.0924 - accuracy: 0.9785\n",
      "Epoch 22/100\n",
      "4616/4616 [==============================] - 2s 354us/step - loss: 0.1038 - accuracy: 0.9769\n",
      "Epoch 23/100\n",
      "4616/4616 [==============================] - 2s 355us/step - loss: 0.0977 - accuracy: 0.9782\n",
      "Epoch 24/100\n",
      "4616/4616 [==============================] - 2s 357us/step - loss: 0.0948 - accuracy: 0.9782\n",
      "Epoch 25/100\n",
      "4616/4616 [==============================] - 2s 351us/step - loss: 0.0923 - accuracy: 0.9785\n",
      "Epoch 26/100\n",
      "4616/4616 [==============================] - 2s 353us/step - loss: 0.0927 - accuracy: 0.9783\n",
      "Epoch 27/100\n",
      "4616/4616 [==============================] - 2s 352us/step - loss: 0.0920 - accuracy: 0.9784\n",
      "Epoch 28/100\n",
      "4616/4616 [==============================] - 2s 360us/step - loss: 0.0920 - accuracy: 0.9785\n",
      "Epoch 29/100\n",
      "4616/4616 [==============================] - 2s 368us/step - loss: 0.0912 - accuracy: 0.9785\n",
      "Epoch 30/100\n",
      "4616/4616 [==============================] - 2s 357us/step - loss: 0.0915 - accuracy: 0.9785\n",
      "Epoch 31/100\n",
      "4616/4616 [==============================] - 2s 355us/step - loss: 0.0910 - accuracy: 0.9786\n",
      "Epoch 32/100\n",
      "4616/4616 [==============================] - 2s 354us/step - loss: 0.0914 - accuracy: 0.9786\n",
      "Epoch 33/100\n",
      "4616/4616 [==============================] - 2s 354us/step - loss: 0.0908 - accuracy: 0.9785\n",
      "Epoch 34/100\n",
      "4616/4616 [==============================] - 2s 351us/step - loss: 0.0912 - accuracy: 0.9786\n",
      "Epoch 35/100\n",
      "4616/4616 [==============================] - 2s 355us/step - loss: 0.0910 - accuracy: 0.9785\n",
      "Epoch 36/100\n",
      "4616/4616 [==============================] - 2s 351us/step - loss: 0.0905 - accuracy: 0.9785\n",
      "Epoch 37/100\n",
      "4616/4616 [==============================] - 2s 361us/step - loss: 0.0907 - accuracy: 0.9786\n",
      "Epoch 38/100\n",
      "4616/4616 [==============================] - 2s 376us/step - loss: 0.0908 - accuracy: 0.9786\n",
      "Epoch 39/100\n",
      "4616/4616 [==============================] - 2s 372us/step - loss: 0.0901 - accuracy: 0.9786\n",
      "Epoch 40/100\n",
      "4616/4616 [==============================] - 2s 363us/step - loss: 0.0904 - accuracy: 0.9787\n",
      "Epoch 41/100\n",
      "4616/4616 [==============================] - 2s 366us/step - loss: 0.0901 - accuracy: 0.9787\n",
      "Epoch 42/100\n",
      "4616/4616 [==============================] - 2s 362us/step - loss: 0.0902 - accuracy: 0.9787\n",
      "Epoch 43/100\n",
      "4616/4616 [==============================] - 2s 361us/step - loss: 0.0892 - accuracy: 0.9788\n",
      "Epoch 44/100\n",
      "4616/4616 [==============================] - 2s 365us/step - loss: 0.0895 - accuracy: 0.9787\n",
      "Epoch 45/100\n",
      "4616/4616 [==============================] - 2s 358us/step - loss: 0.0896 - accuracy: 0.9788\n",
      "Epoch 46/100\n",
      "4616/4616 [==============================] - 2s 358us/step - loss: 0.0893 - accuracy: 0.9788\n",
      "Epoch 47/100\n",
      "4616/4616 [==============================] - 2s 362us/step - loss: 0.0896 - accuracy: 0.9787\n",
      "Epoch 48/100\n",
      "4616/4616 [==============================] - 2s 374us/step - loss: 0.0895 - accuracy: 0.9788\n",
      "Epoch 49/100\n",
      "4616/4616 [==============================] - 2s 368us/step - loss: 0.0891 - accuracy: 0.9788\n",
      "Epoch 50/100\n",
      "4616/4616 [==============================] - 2s 366us/step - loss: 0.0888 - accuracy: 0.9788\n",
      "Epoch 51/100\n",
      "4616/4616 [==============================] - 2s 363us/step - loss: 0.0889 - accuracy: 0.9788\n",
      "Epoch 52/100\n",
      "4616/4616 [==============================] - 2s 360us/step - loss: 0.0892 - accuracy: 0.9788\n",
      "Epoch 53/100\n",
      "4616/4616 [==============================] - 2s 358us/step - loss: 0.0891 - accuracy: 0.9788\n",
      "Epoch 54/100\n",
      "4616/4616 [==============================] - 2s 361us/step - loss: 0.0890 - accuracy: 0.9788\n",
      "Epoch 55/100\n",
      "4616/4616 [==============================] - 2s 359us/step - loss: 0.0888 - accuracy: 0.9788\n",
      "Epoch 56/100\n",
      "4616/4616 [==============================] - 2s 363us/step - loss: 0.0886 - accuracy: 0.9787\n",
      "Epoch 57/100\n",
      "4616/4616 [==============================] - 2s 371us/step - loss: 0.0888 - accuracy: 0.9788\n",
      "Epoch 58/100\n",
      "4616/4616 [==============================] - 2s 368us/step - loss: 0.0887 - accuracy: 0.9788\n",
      "Epoch 59/100\n",
      "4616/4616 [==============================] - 2s 364us/step - loss: 0.0887 - accuracy: 0.9788\n",
      "Epoch 60/100\n",
      "4616/4616 [==============================] - 2s 360us/step - loss: 0.0886 - accuracy: 0.9787\n",
      "Epoch 61/100\n",
      "4616/4616 [==============================] - 2s 359us/step - loss: 0.0887 - accuracy: 0.9788\n",
      "Epoch 62/100\n",
      "4616/4616 [==============================] - 2s 359us/step - loss: 0.0885 - accuracy: 0.9789\n",
      "Epoch 63/100\n",
      "4616/4616 [==============================] - 2s 357us/step - loss: 0.0885 - accuracy: 0.9790\n",
      "Epoch 64/100\n",
      "4616/4616 [==============================] - 2s 361us/step - loss: 0.0883 - accuracy: 0.9788\n",
      "Epoch 65/100\n",
      "4616/4616 [==============================] - 2s 361us/step - loss: 0.0883 - accuracy: 0.9790\n",
      "Epoch 66/100\n",
      "4616/4616 [==============================] - 2s 362us/step - loss: 0.0886 - accuracy: 0.9789\n",
      "Epoch 67/100\n",
      "4616/4616 [==============================] - 2s 380us/step - loss: 0.0885 - accuracy: 0.9788\n",
      "Epoch 68/100\n",
      "4616/4616 [==============================] - 2s 367us/step - loss: 0.0885 - accuracy: 0.9789\n",
      "Epoch 69/100\n",
      "4616/4616 [==============================] - 2s 360us/step - loss: 0.0884 - accuracy: 0.9789\n",
      "Epoch 70/100\n",
      "4616/4616 [==============================] - 2s 359us/step - loss: 0.0885 - accuracy: 0.9790\n",
      "Epoch 71/100\n",
      "4616/4616 [==============================] - 2s 359us/step - loss: 0.0881 - accuracy: 0.9790\n",
      "Epoch 72/100\n",
      "4616/4616 [==============================] - 2s 360us/step - loss: 0.0883 - accuracy: 0.9788\n",
      "Epoch 73/100\n",
      "4616/4616 [==============================] - 2s 362us/step - loss: 0.0881 - accuracy: 0.9789\n",
      "Epoch 74/100\n",
      "4616/4616 [==============================] - 2s 363us/step - loss: 0.0881 - accuracy: 0.9788\n",
      "Epoch 75/100\n",
      "4616/4616 [==============================] - 2s 362us/step - loss: 0.0882 - accuracy: 0.9788\n",
      "Epoch 76/100\n",
      "4616/4616 [==============================] - 2s 366us/step - loss: 0.0882 - accuracy: 0.9790\n",
      "Epoch 77/100\n",
      "4616/4616 [==============================] - 2s 373us/step - loss: 0.0880 - accuracy: 0.9789\n",
      "Epoch 78/100\n",
      "4616/4616 [==============================] - 2s 362us/step - loss: 0.0882 - accuracy: 0.9788\n",
      "Epoch 79/100\n",
      "4616/4616 [==============================] - 2s 358us/step - loss: 0.0883 - accuracy: 0.9788\n",
      "Epoch 80/100\n",
      "4616/4616 [==============================] - 2s 360us/step - loss: 0.0879 - accuracy: 0.9788\n",
      "Epoch 81/100\n",
      "4616/4616 [==============================] - 2s 359us/step - loss: 0.0881 - accuracy: 0.9788\n",
      "Epoch 82/100\n",
      "4616/4616 [==============================] - 2s 360us/step - loss: 0.0880 - accuracy: 0.9789\n",
      "Epoch 83/100\n",
      "4616/4616 [==============================] - 2s 361us/step - loss: 0.0882 - accuracy: 0.9789\n",
      "Epoch 84/100\n",
      "4616/4616 [==============================] - 2s 364us/step - loss: 0.0876 - accuracy: 0.9789\n",
      "Epoch 85/100\n",
      "4616/4616 [==============================] - 2s 361us/step - loss: 0.0881 - accuracy: 0.9787\n",
      "Epoch 86/100\n",
      "4616/4616 [==============================] - 2s 374us/step - loss: 0.0879 - accuracy: 0.9790\n",
      "Epoch 87/100\n",
      "4616/4616 [==============================] - 2s 363us/step - loss: 0.0878 - accuracy: 0.9791\n",
      "Epoch 88/100\n",
      "4616/4616 [==============================] - 2s 360us/step - loss: 0.0881 - accuracy: 0.9789\n",
      "Epoch 89/100\n",
      "4616/4616 [==============================] - 2s 361us/step - loss: 0.0878 - accuracy: 0.9789\n",
      "Epoch 90/100\n",
      "4616/4616 [==============================] - 2s 358us/step - loss: 0.0878 - accuracy: 0.9787\n",
      "Epoch 91/100\n",
      "4616/4616 [==============================] - 2s 360us/step - loss: 0.0876 - accuracy: 0.9789\n",
      "Epoch 92/100\n",
      "4616/4616 [==============================] - 2s 361us/step - loss: 0.0880 - accuracy: 0.9789\n",
      "Epoch 93/100\n",
      "4616/4616 [==============================] - 2s 360us/step - loss: 0.0879 - accuracy: 0.9789\n",
      "Epoch 94/100\n",
      "4616/4616 [==============================] - 2s 360us/step - loss: 0.0880 - accuracy: 0.9789\n",
      "Epoch 95/100\n",
      "4616/4616 [==============================] - 2s 368us/step - loss: 0.0876 - accuracy: 0.9789\n",
      "Epoch 96/100\n",
      "4616/4616 [==============================] - 2s 373us/step - loss: 0.0876 - accuracy: 0.9788\n",
      "Epoch 97/100\n",
      "4616/4616 [==============================] - 2s 358us/step - loss: 0.0877 - accuracy: 0.9786\n",
      "Epoch 98/100\n",
      "4616/4616 [==============================] - 2s 358us/step - loss: 0.0880 - accuracy: 0.9788\n",
      "Epoch 99/100\n",
      "4616/4616 [==============================] - 2s 358us/step - loss: 0.0877 - accuracy: 0.9789\n",
      "Epoch 100/100\n",
      "4616/4616 [==============================] - 2s 358us/step - loss: 0.0878 - accuracy: 0.9789\n"
     ]
    }
   ],
   "source": [
    "# X_temp = np.asarray(dummy_train).astype(np.float32)\n",
    "history = nn.fit(X_combine_train, y, epochs = 100)"
   ]
  },
  {
   "cell_type": "code",
   "execution_count": 102,
   "metadata": {},
   "outputs": [
    {
     "name": "stderr",
     "output_type": "stream",
     "text": [
      "c:\\Users\\15037\\anaconda3\\lib\\site-packages\\tensorflow\\python\\keras\\engine\\sequential.py:455: UserWarning: `model.predict_classes()` is deprecated and will be removed after 2021-01-01. Please use instead:* `np.argmax(model.predict(x), axis=-1)`,   if your model does multi-class classification   (e.g. if it uses a `softmax` last-layer activation).* `(model.predict(x) > 0.5).astype(\"int32\")`,   if your model does binary classification   (e.g. if it uses a `sigmoid` last-layer activation).\n",
      "  warnings.warn('`model.predict_classes()` is deprecated and '\n"
     ]
    },
    {
     "name": "stdout",
     "output_type": "stream",
     "text": [
      "[[134209     72]\n",
      " [  3025  10403]]\n"
     ]
    }
   ],
   "source": [
    "predict = nn.predict_classes(X_combine_train)\n",
    "print(confusion_matrix(y, predict))\n"
   ]
  },
  {
   "cell_type": "code",
   "execution_count": 103,
   "metadata": {},
   "outputs": [
    {
     "name": "stdout",
     "output_type": "stream",
     "text": [
      "              precision    recall  f1-score   support\n",
      "\n",
      "           0       0.98      1.00      0.99    134281\n",
      "           1       0.99      0.77      0.87     13428\n",
      "\n",
      "    accuracy                           0.98    147709\n",
      "   macro avg       0.99      0.89      0.93    147709\n",
      "weighted avg       0.98      0.98      0.98    147709\n",
      "\n"
     ]
    }
   ],
   "source": [
    "print(classification_report(y, predict))"
   ]
  },
  {
   "cell_type": "code",
   "execution_count": 104,
   "metadata": {},
   "outputs": [],
   "source": [
    "\n",
    "# model_loss, model_accuracy = nn.evaluate(X_test_scaled,y_test,verbose=2)\n",
    "# print(f\"Loss: {model_loss}, Accuracy: {model_accuracy}\")"
   ]
  },
  {
   "cell_type": "code",
   "execution_count": null,
   "metadata": {},
   "outputs": [],
   "source": []
  },
  {
   "cell_type": "code",
   "execution_count": 105,
   "metadata": {},
   "outputs": [],
   "source": [
    "# predict = nn.predict_classes(X_test_scaled)\n",
    "# print(len(predict))\n",
    "# print(predict[0][0])"
   ]
  },
  {
   "cell_type": "code",
   "execution_count": 106,
   "metadata": {},
   "outputs": [],
   "source": [
    "# predictions = []\n",
    "# for i in predict:\n",
    "#     predictions.append(predict[i][0][0])\n",
    "# predictions_df = pd.DataFrame({'prediction':predictions})\n"
   ]
  },
  {
   "cell_type": "code",
   "execution_count": 107,
   "metadata": {},
   "outputs": [],
   "source": [
    "# predictions_df.value_counts()"
   ]
  }
 ],
 "metadata": {
  "kernelspec": {
   "display_name": "base",
   "language": "python",
   "name": "python3"
  },
  "language_info": {
   "codemirror_mode": {
    "name": "ipython",
    "version": 3
   },
   "file_extension": ".py",
   "mimetype": "text/x-python",
   "name": "python",
   "nbconvert_exporter": "python",
   "pygments_lexer": "ipython3",
   "version": "3.9.13"
  },
  "orig_nbformat": 4
 },
 "nbformat": 4,
 "nbformat_minor": 2
}
