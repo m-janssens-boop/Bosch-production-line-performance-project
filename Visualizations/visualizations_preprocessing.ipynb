{
 "cells": [
  {
   "cell_type": "code",
   "execution_count": null,
   "metadata": {},
   "outputs": [],
   "source": [
    "#import dependencies\n",
    "import numpy as np\n",
    "import pandas as pd\n",
    "from pathlib import Path"
   ]
  },
  {
   "cell_type": "code",
   "execution_count": null,
   "metadata": {},
   "outputs": [],
   "source": [
    "#create dictionary with classification reports for each model\n",
    "\n",
    "classification_reports = {\n",
    "    \"model_name\": {\"random forest\", \"random forest\", \"logistic regression\", \"neural network\", \"neural network\", \"gradient boosting\", \"gradient boosting\"},\n",
    "    \"oversampling\": {\"Y\", \"N\", \"N\", \"N\", \"Y\", \"Y\", \"Y\"},\n",
    "    \"runtime(sec)\": {270, 600, 12.5, 165.5, 303.6, 173.7, 286.9},\n",
    "    \"accuracy\": {0.999, 0.995, 0.996, 0.017, 0.880, 0.95, 1.00},\n",
    "    \"kaggle_score\": {0.91, \"NaN\", \"NaN\", 0.50, 0.90, 0.92, 0.91},\n",
    "    \"0_precision\": {1.00, 1.00, 1.00, 1.00, 0.81, 0.98, 1.00},\n",
    "    \"1_precision\": {0.99, 0.97, 0.99, 0.02, 1.00, 0.98, 1.00},\n",
    "    \"0_recall\": {1.00, 1.00, 1.00, 0.00, 1.00, 0.93, 1.00},\n",
    "    \"1_recall\": {1.00, 0.74, 0.76, 1.00, 0.76, 0.93, 1.00},\n",
    "    \"0_f1\": {1.00, 1.00, 1.00, 0.00, 0.89, 0.95, 1.00},\n",
    "    \"1_f1\": {1.00, 0.84, 0.86, 0.03, 0.86, 0.95, 1.00},\n",
    "    \"0_support\": {33487, 33588, 33564, 134281, 134281, 134281, 134281},\n",
    "    \"1_support\": {3441, 520, 544, 2148, 134281, 134281, 134281}\n",
    "}"
   ]
  },
  {
   "cell_type": "code",
   "execution_count": null,
   "metadata": {},
   "outputs": [],
   "source": [
    "#convert dictionary to dataframe\n",
    "classification_reports_df = pd.DataFrame(classification_reports)"
   ]
  },
  {
   "cell_type": "code",
   "execution_count": null,
   "metadata": {},
   "outputs": [],
   "source": [
    "#export dataframe to csv\n",
    "classification_reports_df.to_csv(\"Visualizations/Visualization_CSVs/classification_reports.csv\")"
   ]
  }
 ],
 "metadata": {
  "language_info": {
   "name": "python"
  },
  "orig_nbformat": 4
 },
 "nbformat": 4,
 "nbformat_minor": 2
}
