{
 "cells": [
  {
   "cell_type": "markdown",
   "id": "98b8a354",
   "metadata": {},
   "source": [
    "# Gradient Boosting Classifier\n",
    "* Gradient Boosting combines the strengths of multiple weak learners (typically Decision Trees) to create a stronger predictive model. It takes a sequential, additive approach to correct the errors of previous models and improves the accuracy. The following is how Gradient Boosting works:\n",
    "    1. Take a shallow decision tree and train it on the data\n",
    "    2. Make prediction using this weak learner\n",
    "    3. Assign weights to data points based on the magnitude of pseudo-residuals ($r_i = y_i - p_i$ where $r_i$ is the ith residual, $y_i$ is the class label of the ith data point, and $p_i$ is the predicted probability of that class for the ith data point)\n",
    "    4. Another weak learner is fitted on this weighted data, focusing more on points that were poorly predicted\n",
    "    5. Repeat 3-4 until stopping criteria is met\n",
    "    6. Final predictions is generated using a weighted average of all the weak learners - weights are usually determined by the performance of each weak learner on the training data and pseudo-residuals"
   ]
  },
  {
   "cell_type": "code",
   "execution_count": null,
   "id": "bf548675",
   "metadata": {},
   "outputs": [],
   "source": [
    "import numpy as np\n",
    "import pandas as pd\n",
    "from pathlib import Path\n",
    "import matplotlib.pyplot as plt\n",
    "from sklearn.datasets import make_classification\n",
    "from sklearn.model_selection import train_test_split, GridSearchCV\n",
    "from sklearn.ensemble import GradientBoostingClassifier\n",
    "from sklearn.metrics import accuracy_score, f1_score, precision_score, recall_score"
   ]
  },
  {
   "cell_type": "code",
   "execution_count": null,
   "id": "ba71aa3e",
   "metadata": {},
   "outputs": [],
   "source": [
    "# Generate data\n",
    "#X, y = make_classification(n_samples=10000, n_features=2, n_informative=2, n_redundant=0, random_state=42)"
   ]
  },
  {
   "cell_type": "markdown",
   "id": "1507104b",
   "metadata": {},
   "source": [
    "## Split the Data into Training and Testing Sets"
   ]
  },
  {
   "cell_type": "code",
   "execution_count": null,
   "id": "98fbb7e2",
   "metadata": {},
   "outputs": [],
   "source": [
    "# Load the test data into a Pandas DataFrame\n",
    "df_test = pd.read_csv(\"https://machine-failure-data-20230822-craiguo.s3.us-west-2.amazonaws.com/test.csv\")\n",
    "df_test.drop(columns=['id', 'Product ID'], inplace=True)\n",
    "\n",
    "# Display sample data\n",
    "df_test.head(10)"
   ]
  },
  {
   "cell_type": "code",
   "execution_count": null,
   "id": "d077fdc0",
   "metadata": {},
   "outputs": [],
   "source": [
    "# Load the test data into a Pandas DataFrame\n",
    "df_train = pd.read_csv(\"https://machine-failure-data-20230822-craiguo.s3.us-west-2.amazonaws.com/train.csv\")\n",
    "df_train.drop(columns=['id', 'Product ID'], inplace=True)\n",
    "\n",
    "# Display sample data\n",
    "df_train.head(10)"
   ]
  },
  {
   "cell_type": "code",
   "execution_count": null,
   "id": "598bfe08",
   "metadata": {},
   "outputs": [],
   "source": [
    "# Look at nunique counts for train\n",
    "df_train.nunique()"
   ]
  },
  {
   "cell_type": "code",
   "execution_count": null,
   "id": "9f9941da",
   "metadata": {},
   "outputs": [],
   "source": [
    "# Look at nunique counts for test\n",
    "df_test.nunique()"
   ]
  },
  {
   "cell_type": "code",
   "execution_count": null,
   "id": "97a05eec",
   "metadata": {},
   "outputs": [],
   "source": [
    "# concatenate the dataframes to use pd.get_dummies() on 'Product ID' and 'Type'\n",
    "\n",
    "combined_df = pd.concat([df_train, df_test], sort=False)\n",
    "combined_df.tail()"
   ]
  },
  {
   "cell_type": "code",
   "execution_count": null,
   "id": "9b9963ca",
   "metadata": {},
   "outputs": [],
   "source": [
    "#use pd.get_dummies() for 'Product ID' and 'Type' and split test and train sets again\n",
    "\n",
    "dummies_df = pd.get_dummies(combined_df)\n",
    "\n",
    "col = df_train.shape[0]\n",
    "\n",
    "dummy_train = dummies_df.iloc[0:col]\n",
    "dummy_test = dummies_df.iloc[col:]"
   ]
  },
  {
   "cell_type": "markdown",
   "id": "49e1ec19",
   "metadata": {},
   "source": [
    "### Step 2: Create features and target arrays"
   ]
  },
  {
   "cell_type": "code",
   "execution_count": null,
   "id": "b6eee226",
   "metadata": {},
   "outputs": [],
   "source": [
    "# Split our preprocessed data into our features and target arrays\n",
    "\n",
    "y = df_train['Machine failure']\n",
    "X = df_train.drop(columns = 'Machine failure')"
   ]
  },
  {
   "cell_type": "code",
   "execution_count": null,
   "id": "c2bbbca0",
   "metadata": {},
   "outputs": [],
   "source": [
    "# Review the y variable Series\n",
    "y[:5]"
   ]
  },
  {
   "cell_type": "code",
   "execution_count": null,
   "id": "22f2572d",
   "metadata": {},
   "outputs": [],
   "source": [
    "# Review the X variable DataFrame\n",
    "X.head()"
   ]
  },
  {
   "cell_type": "markdown",
   "id": "5b41d440",
   "metadata": {},
   "source": [
    "### Step 3: Split the data into training and testing datasets by using `train_test_split`."
   ]
  },
  {
   "cell_type": "code",
   "execution_count": null,
   "id": "5ddd49a1",
   "metadata": {},
   "outputs": [],
   "source": [
    "# Split the data into training and testing sets\n",
    "#X_train, X_test, y_train, y_test = train_test_split(X, y, test_size=0.2, random_state=42)"
   ]
  },
  {
   "cell_type": "code",
   "execution_count": null,
   "id": "c067c35d",
   "metadata": {},
   "outputs": [],
   "source": [
    "# Split the data using train_test_split\n",
    "# Assign a random_state of 1 to the function\n",
    "X_train, X_test, y_train, y_test = train_test_split(X, y, random_state=1)"
   ]
  },
  {
   "cell_type": "code",
   "execution_count": null,
   "id": "e9611f59",
   "metadata": {},
   "outputs": [],
   "source": [
    "from warnings import filterwarnings\n",
    "filterwarnings('ignore')\n",
    "\n",
    "# Create a Gradient Boosting Regressor\n",
    "model = GradientBoostingClassifier()\n",
    "\n",
    "# Define the hyperparameter grid to search\n",
    "param_grid = {\n",
    "    'n_estimators': [50, 100, 200],\n",
    "    'learning_rate': [0.01, 0.1, 0.2],\n",
    "    'max_depth': [3, 5, 7]\n",
    "}\n",
    "\n",
    "# Perform grid search with cross-validation\n",
    "grid_search = GridSearchCV(model, param_grid, cv=5, verbose=3)\n",
    "grid_search.fit(X_train, y_train)\n",
    "\n",
    "# Get the best model from grid search\n",
    "best_gb = grid_search.best_estimator_\n",
    "\n",
    "# Make predictions on the test data using the best model\n",
    "y_pred = best_gb.predict(X_test)\n",
    "\n",
    "# Calculate metrics\n",
    "accuracy = accuracy_score(y_test, y_pred)\n",
    "f1 = f1_score(y_test, y_pred)\n",
    "precision = precision_score(y_test, y_pred)\n",
    "recall = recall_score(y_test, y_pred)\n",
    "\n",
    "print(f\"Best Estimators: {best_gb.n_estimators}\")\n",
    "print(f\"Best Learning Rate: {best_gb.learning_rate}\")\n",
    "print(f\"Best Max Depth: {best_gb.max_depth}\")\n",
    "print(f\"Accuracy: {accuracy:.2f}\")\n",
    "print(f\"F1: {f1:.2f}\")\n",
    "print(f\"Precision: {precision:.2f}\")\n",
    "print(f\"Recall: {recall:.2f}\")"
   ]
  },
  {
   "cell_type": "code",
   "execution_count": null,
   "id": "a052080a",
   "metadata": {},
   "outputs": [],
   "source": [
    "import pickle"
   ]
  },
  {
   "cell_type": "code",
   "execution_count": null,
   "id": "52842ea5",
   "metadata": {},
   "outputs": [],
   "source": [
    "model_gboost = \"model_gboost.pkl\"\n",
    "with open (model_gboost, \"wb\") as filename: \n",
    "    pickle.dump(best_gb, filename)"
   ]
  },
  {
   "cell_type": "code",
   "execution_count": null,
   "id": "5c78fa72",
   "metadata": {},
   "outputs": [],
   "source": [
    "with open(model_gboost, \"rb\") as filename:\n",
    "    model = pickle.load(filename)"
   ]
  },
  {
   "cell_type": "code",
   "execution_count": null,
   "id": "c24fecbf",
   "metadata": {},
   "outputs": [],
   "source": [
    "# Plot the decision boundary\n",
    "x_min, x_max = X[:, 0].min() - 1, X[:, 0].max() + 1\n",
    "y_min, y_max = X[:, 1].min() - 1, X[:, 1].max() + 1\n",
    "\n",
    "xx, yy = np.meshgrid(np.arange(x_min, x_max, 0.01),\n",
    "                     np.arange(y_min, y_max, 0.01))\n",
    "\n",
    "Z = best_gb.predict(np.c_[xx.ravel(), yy.ravel()])\n",
    "Z = Z.reshape(xx.shape)\n",
    "\n",
    "plt.contourf(xx, yy, Z, alpha=0.3)\n",
    "plt.scatter(X[:, 0], X[:, 1], c=y, marker='o', edgecolor='k')\n",
    "plt.xlabel('Feature 1')\n",
    "plt.ylabel('Feature 2')\n",
    "plt.title(f'Best Gradient Boosting Classifier, Accuracy: {accuracy:.2f}')\n",
    "plt.show()"
   ]
  },
  {
   "cell_type": "code",
   "execution_count": null,
   "id": "609380e2",
   "metadata": {},
   "outputs": [],
   "source": []
  }
 ],
 "metadata": {
  "kernelspec": {
   "display_name": "Python 3 (ipykernel)",
   "language": "python",
   "name": "python3"
  },
  "language_info": {
   "codemirror_mode": {
    "name": "ipython",
    "version": 3
   },
   "file_extension": ".py",
   "mimetype": "text/x-python",
   "name": "python",
   "nbconvert_exporter": "python",
   "pygments_lexer": "ipython3",
   "version": "3.10.10"
  }
 },
 "nbformat": 4,
 "nbformat_minor": 5
}
